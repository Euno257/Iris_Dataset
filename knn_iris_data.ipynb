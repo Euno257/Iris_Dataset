{
  "nbformat": 4,
  "nbformat_minor": 0,
  "metadata": {
    "colab": {
      "name": "knn_iris_data",
      "version": "0.3.2",
      "provenance": []
    },
    "kernelspec": {
      "name": "python3",
      "display_name": "Python 3"
    }
  },
  "cells": [
    {
      "metadata": {
        "id": "ql8-epyfqCju",
        "colab_type": "text"
      },
      "cell_type": "markdown",
      "source": [
        ""
      ]
    },
    {
      "metadata": {
        "id": "MPNPjjDGqB6_",
        "colab_type": "code",
        "colab": {
          "base_uri": "https://localhost:8080/",
          "height": 68
        },
        "outputId": "67927696-7976-49a7-92c7-8d6f90bba0ce"
      },
      "cell_type": "code",
      "source": [
        "from sklearn.datasets import load_iris #importing iris dataset from the module \n",
        "iris = load_iris()       #loading the dataset\n",
        "X= iris.data           #storing features in matrix X\n",
        "y= iris.target         #storing results in vector y\n",
        "\n",
        "from sklearn.neighbors import KNeighborsClassifier\n",
        "knn = KNeighborsClassifier(n_neighbors=5)\n",
        "\n",
        "from sklearn.model_selection import train_test_split \n",
        "X_train,X_test,y_train,y_test = train_test_split(X,y,test_size=0.4,random_state=4)\n",
        "\n",
        "knn.fit(X_train,y_train)\n",
        "y_pred=knn.predict(X_test)\n",
        "\n",
        "from sklearn.metrics import accuracy_score #accuracy on as test dataset\n",
        "print(accuracy_score(y_test,y_pred))\n",
        "\n",
        "classes = {0:'sentosa',1:'versicolor',2:'virginica'}   #types of species of iris \n",
        "\n",
        "knn.fit(X,y)\n",
        "X_new = [[3,4,5,2],[5,4,2,2]]  #Data on which prediction is to be made\n",
        "y_predict = knn.predict(X_new)\n",
        "\n",
        "print(classes[y_predict[0]])\n",
        "print(classes[y_predict[1]])\n"
      ],
      "execution_count": 3,
      "outputs": [
        {
          "output_type": "stream",
          "text": [
            "0.9666666666666667\n",
            "versicolor\n",
            "sentosa\n"
          ],
          "name": "stdout"
        }
      ]
    }
  ]
}